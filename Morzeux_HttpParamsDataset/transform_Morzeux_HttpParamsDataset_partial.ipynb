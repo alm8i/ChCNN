{
 "cells": [
  {
   "cell_type": "code",
   "execution_count": 3,
   "metadata": {},
   "outputs": [
    {
     "name": "stdout",
     "output_type": "stream",
     "text": [
      "\n",
      "Attack type count\n",
      "norm              12870\n",
      "sqli               7235\n",
      "xss                 355\n",
      "path-traversal      193\n",
      "cmdi                 59\n",
      "Name: attack_type, dtype: int64\n",
      "\n",
      "Mean length of payload:\n",
      "41.10670142912321\n",
      "\n",
      "Attack type count\n",
      "norm              6434\n",
      "sqli              3617\n",
      "xss                177\n",
      "path-traversal      97\n",
      "cmdi                30\n",
      "Name: attack_type, dtype: int64\n",
      "\n",
      "Mean length of payload:\n",
      "41.22800579430227\n"
     ]
    }
   ],
   "source": [
    "#dataset from https://github.com/Morzeux/HttpParamsDataset\n",
    "\n",
    "import pandas as pd\n",
    "import re\n",
    "import numpy as np\n",
    "from numpy import array\n",
    "import csv\n",
    "import random\n",
    "\n",
    "df = pd.read_csv('payload_train.csv')\n",
    "\n",
    "print(\"\\nAttack type count\")\n",
    "print(df['attack_type'].value_counts())\n",
    "\n",
    "print(\"\\nMean length of payload:\")\n",
    "print(df['length'].mean())\n",
    "\n",
    "\n",
    "df = df[['payload','attack_type']]\n",
    "labels = {'norm':0, 'sqli':1, 'xss':2, 'path-traversal':3, 'cmdi':4}\n",
    "\n",
    "df['label'] = df['attack_type'].apply(lambda row: labels[row])\n",
    "df['label'].apply(str)\n",
    "\n",
    "\n",
    "df.to_csv('_train.csv',header=False,index=False,quoting=csv.QUOTE_ALL,columns=['label','payload'])\n",
    "\n",
    "\n",
    "df = pd.read_csv('payload_test.csv')\n",
    "print(\"\\nAttack type count\")\n",
    "print(df['attack_type'].value_counts())\n",
    "\n",
    "print(\"\\nMean length of payload:\")\n",
    "print(df['length'].mean())\n",
    "\n",
    "df = df[['payload','attack_type']]\n",
    "labels = {'norm':0, 'sqli':1, 'xss':2, 'path-traversal':3, 'cmdi':4}\n",
    "\n",
    "df['label'] = df['attack_type'].apply(lambda row: labels[row])\n",
    "df['label'].apply(str)\n",
    "\n",
    "\n",
    "df.to_csv('_test.csv',header=False,index=False,quoting=csv.QUOTE_ALL,columns=['label','payload'])\n",
    "\n"
   ]
  }
 ],
 "metadata": {
  "kernelspec": {
   "display_name": "Python 3",
   "language": "python",
   "name": "python3"
  },
  "language_info": {
   "codemirror_mode": {
    "name": "ipython",
    "version": 3
   },
   "file_extension": ".py",
   "mimetype": "text/x-python",
   "name": "python",
   "nbconvert_exporter": "python",
   "pygments_lexer": "ipython3",
   "version": "3.6.0"
  }
 },
 "nbformat": 4,
 "nbformat_minor": 2
}
