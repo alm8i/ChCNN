{
 "cells": [
  {
   "cell_type": "code",
   "execution_count": 1,
   "metadata": {},
   "outputs": [
    {
     "name": "stdout",
     "output_type": "stream",
     "text": [
      "\n",
      "Attack type count\n",
      "norm              19304\n",
      "sqli              10852\n",
      "xss                 532\n",
      "path-traversal      290\n",
      "cmdi                 89\n",
      "Name: attack_type, dtype: int64\n",
      "\n",
      "Mean length of payload:\n",
      "41.1471336144462\n",
      "\n",
      "Training data length: 18640\n",
      "Validate data length: 6213\n",
      "Test data length: 6214\n"
     ]
    }
   ],
   "source": [
    "#dataset from https://github.com/Morzeux/HttpParamsDataset\n",
    "\n",
    "import pandas as pd\n",
    "import re\n",
    "import numpy as np\n",
    "from numpy import array\n",
    "import csv\n",
    "import random\n",
    "\n",
    "df = pd.read_csv('payload_full.csv')\n",
    "\n",
    "print(\"\\nAttack type count\")\n",
    "print(df['attack_type'].value_counts())\n",
    "\n",
    "print(\"\\nMean length of payload:\")\n",
    "print(df['length'].mean())\n",
    "\n",
    "df['length'].plot.hist(bins=6)\n",
    "\n",
    "#print(df.loc[df['length'].idxmax()])\n",
    "\n",
    "df = df[['payload','attack_type']]\n",
    "labels = {'norm':0, 'sqli':1, 'xss':2, 'path-traversal':3, 'cmdi':4}\n",
    "\n",
    "df['label'] = df['attack_type'].apply(lambda row: labels[row])\n",
    "df['label'].apply(str)\n",
    "\n",
    "train, validate, test = np.split(df.sample(frac=1), [int(.6*len(df)), int(.8*len(df))])\n",
    "print(\"\\nTraining data length: \"+str(len(train['payload'])))\n",
    "print(\"Validate data length: \"+str(len(validate['payload'])))\n",
    "print(\"Test data length: \"+str(len(test['payload'])))\n",
    "\n",
    "train.to_csv('../_train.csv',header=False,index=False,quoting=csv.QUOTE_ALL,columns=['label','payload'])\n",
    "validate.to_csv('../_validate.csv',header=False,index=False,quoting=csv.QUOTE_ALL,columns=['label','payload'])\n",
    "test.to_csv('../_test.csv',header=False,index=False,quoting=csv.QUOTE_ALL,columns=['label','payload'])\n",
    "\n"
   ]
  }
 ],
 "metadata": {
  "kernelspec": {
   "display_name": "Python 3",
   "language": "python",
   "name": "python3"
  },
  "language_info": {
   "codemirror_mode": {
    "name": "ipython",
    "version": 3
   },
   "file_extension": ".py",
   "mimetype": "text/x-python",
   "name": "python",
   "nbconvert_exporter": "python",
   "pygments_lexer": "ipython3",
   "version": "3.6.0"
  }
 },
 "nbformat": 4,
 "nbformat_minor": 2
}
