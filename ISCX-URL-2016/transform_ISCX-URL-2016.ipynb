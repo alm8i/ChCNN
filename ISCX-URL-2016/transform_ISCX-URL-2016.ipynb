{
 "cells": [
  {
   "cell_type": "code",
   "execution_count": 2,
   "metadata": {},
   "outputs": [
    {
     "name": "stdout",
     "output_type": "stream",
     "text": [
      "\n",
      "Training data length: 99219\n",
      "Validate data length: 33073\n",
      "Test data length: 33074\n"
     ]
    },
    {
     "data": {
      "text/plain": [
       "<matplotlib.axes._subplots.AxesSubplot at 0x7f18b4ef7be0>"
      ]
     },
     "execution_count": 2,
     "metadata": {},
     "output_type": "execute_result"
    },
    {
     "data": {
      "image/png": "[encoded data removed]",
      "text/plain": [
       "<matplotlib.figure.Figure at 0x7f18e6b6c4a8>"
      ]
     },
     "metadata": {
      "needs_background": "light"
     },
     "output_type": "display_data"
    }
   ],
   "source": [
    "import pandas as pd\n",
    "import re\n",
    "import numpy as np\n",
    "from numpy import array\n",
    "import csv\n",
    "import random\n",
    "\n",
    "\n",
    "benign = pd.read_csv('FinalDataset/URL/Benign_list_big_final.csv',names=['url'])\n",
    "benign['label']=\"0\"\n",
    "benign['length']= benign['url'].apply(len) \n",
    "\n",
    "defacement = pd.read_csv('FinalDataset/URL/DefacementSitesURLFiltered.csv',names=['url'])\n",
    "defacement['label']=\"1\"\n",
    "defacement['length']= defacement['url'].apply(len) \n",
    "\n",
    "malware = pd.read_csv('FinalDataset/URL/Malware_dataset.csv',names=['url'])\n",
    "malware['label']=\"2\"\n",
    "malware['length']= malware['url'].apply(len) \n",
    "\n",
    "phishing = pd.read_csv('FinalDataset/URL/phishing_dataset.csv',names=['url'])\n",
    "phishing['label']=\"3\"\n",
    "phishing['length']= phishing['url'].apply(len) \n",
    "\n",
    "\n",
    "spam = pd.read_csv('FinalDataset/URL/spam_dataset.csv',names=['url'])\n",
    "spam['label']=\"4\"\n",
    "spam['length']= spam['url'].apply(len) \n",
    "\n",
    "\n",
    "frames = [benign, defacement, malware, phishing, spam]\n",
    "\n",
    "result = pd.concat(frames)\n",
    "\n",
    "train, validate, test = np.split(result.sample(frac=1), [int(.6*len(result)), int(.8*len(result))])\n",
    "\n",
    "print(\"\\nTraining data length: \"+str(train.shape[0]))\n",
    "print(\"Validate data length: \"+str(validate.shape[0]))\n",
    "print(\"Test data length: \"+str(test.shape[0]))\n",
    "\n",
    "\n",
    "train.to_csv('../_train.csv',header=False,index=False,quoting=csv.QUOTE_ALL,columns=['label','url'])\n",
    "validate.to_csv('../_validate.csv',header=False,index=False,quoting=csv.QUOTE_ALL,columns=['label','url'])\n",
    "test.to_csv('../_test.csv',header=False,index=False,quoting=csv.QUOTE_ALL,columns=['label','url'])\n",
    "\n",
    "result.plot.hist(bins=3)"
   ]
  }
 ],
 "metadata": {
  "kernelspec": {
   "display_name": "Python 3",
   "language": "python",
   "name": "python3"
  },
  "language_info": {
   "codemirror_mode": {
    "name": "ipython",
    "version": 3
   },
   "file_extension": ".py",
   "mimetype": "text/x-python",
   "name": "python",
   "nbconvert_exporter": "python",
   "pygments_lexer": "ipython3",
   "version": "3.6.0"
  }
 },
 "nbformat": 4,
 "nbformat_minor": 2
}
