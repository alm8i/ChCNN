{
 "cells": [
  {
   "cell_type": "code",
   "execution_count": 1,
   "metadata": {},
   "outputs": [
    {
     "name": "stdout",
     "output_type": "stream",
     "text": [
      "Training data length: 58239\n",
      "Validate data length: 19413\n",
      "Test data length: 19413\n",
      "MAX input length: 1402\n"
     ]
    }
   ],
   "source": [
    "import pandas as pd\n",
    "import re\n",
    "import numpy as np\n",
    "from numpy import array\n",
    "import csv\n",
    "import random\n",
    "\n",
    "from sklearn.model_selection import train_test_split\n",
    "\n",
    "# works for burp log\n",
    "#HTTP_RE = re.compile(r\"(GET|POST|TRACE|PUT|PATCH|DELETE)\\s(.+?)\\s+======================================================\", re.MULTILINE | re.DOTALL)\n",
    "\n",
    "HTTP_RE = re.compile(r\"(GET|POST|TRACE|PUT|PATCH|DELETE)\\s(.+?)\\s+End - Id\", re.MULTILINE | re.DOTALL)\n",
    "\n",
    "\n",
    "def http_re(data):\n",
    "    \"\"\"\n",
    "    Extracts HTTP requests from raw data string in special logging format.\n",
    "    Logging format `ST@RT\\n%(asctime)s %(levelname)-8s\\n%(message)s\\nEND`\n",
    "    where `message` is a required HTTP request bytes.\n",
    "    \"\"\"\n",
    "    return HTTP_RE.findall(data)\n",
    "\n",
    "\n",
    "def get_requests_from_file(path):\n",
    "    \"\"\"\n",
    "    Reads raw HTTP requests from given file.\n",
    "    \"\"\"\n",
    "    with open(path, 'r') as f:\n",
    "        file_data = f.read()\n",
    "    requests = http_re(file_data)\n",
    "    return requests\n",
    "\n",
    "cisc_anomalousTraffic_test = get_requests_from_file(\"cisc_anomalousTraffic_test.txt\")\n",
    "cisc_normalTraffic_test = get_requests_from_file(\"cisc_normalTraffic_test.txt\")\n",
    "cisc_normalTraffic_train = get_requests_from_file(\"cisc_normalTraffic_test.txt\")\n",
    "\n",
    "files =[(cisc_anomalousTraffic_test,1),(cisc_normalTraffic_test,0),(cisc_normalTraffic_train,0)]\n",
    "docs=[]\n",
    "max_length=0\n",
    "\n",
    "for file,label in files:\n",
    "    for request in file:\n",
    "        docs.append( (request[0]+\" \"+request[1],str(label)) )\n",
    "        if len(request[1])>max_length:\n",
    "            max_length=len(request[1])\n",
    "            \n",
    "df  = pd.DataFrame.from_records(docs,columns=['request','label'])\n",
    "df['label'].apply(str)\n",
    "\n",
    "train, validate, test = np.split(df.sample(frac=1), [int(.6*len(df)), int(.8*len(df))])\n",
    "print(\"Training data length: \"+str(len(train['request'])))\n",
    "print(\"Validate data length: \"+str(len(validate['request'])))\n",
    "print(\"Test data length: \"+str(len(test['request'])))\n",
    "\n",
    "train.to_csv('../_train.csv',header=False,index=False,quoting=csv.QUOTE_ALL,columns=['label','request'])\n",
    "validate.to_csv('../_validate.csv',header=False,index=False,quoting=csv.QUOTE_ALL,columns=['label','request'])\n",
    "test.to_csv('../_test.csv',header=False,index=False,quoting=csv.QUOTE_ALL,columns=['label','request'])\n",
    "print(\"MAX input length: \"+str(max_length))\n",
    "\n"
   ]
  }
 ],
 "metadata": {
  "kernelspec": {
   "display_name": "Python 3",
   "language": "python",
   "name": "python3"
  },
  "language_info": {
   "codemirror_mode": {
    "name": "ipython",
    "version": 3
   },
   "file_extension": ".py",
   "mimetype": "text/x-python",
   "name": "python",
   "nbconvert_exporter": "python",
   "pygments_lexer": "ipython3",
   "version": "3.6.0"
  }
 },
 "nbformat": 4,
 "nbformat_minor": 2
}
