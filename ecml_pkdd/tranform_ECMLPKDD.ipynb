{
 "cells": [
  {
   "cell_type": "code",
   "execution_count": 2,
   "metadata": {},
   "outputs": [],
   "source": [
    "import xml.etree.ElementTree as et\n",
    "\n",
    "xtree = et.parse(\"ecml_pkdd_learning_dataset.xml\")\n",
    "xroot = xtree.getroot()\n",
    "\n"
   ]
  },
  {
   "cell_type": "code",
   "execution_count": 3,
   "metadata": {},
   "outputs": [
    {
     "name": "stdout",
     "output_type": "stream",
     "text": [
      "Training data length: 30069\n",
      "Validate data length: 10023\n",
      "Test data length: 10024\n",
      "MAX input length: 2423\n"
     ]
    },
    {
     "data": {
      "text/plain": [
       "0    21003\n",
       "4     1416\n",
       "3     1380\n",
       "2     1372\n",
       "5     1352\n",
       "6     1336\n",
       "1     1107\n",
       "7     1103\n",
       "Name: label, dtype: int64"
      ]
     },
     "execution_count": 3,
     "metadata": {},
     "output_type": "execute_result"
    }
   ],
   "source": [
    "import re\n",
    "import numpy as np\n",
    "from numpy import array\n",
    "import csv\n",
    "import random\n",
    "import pandas as pd\n",
    "\n",
    "\n",
    "\n",
    "docs=[]\n",
    "labels={'Valid':0, 'XSS':1, 'SqlInjection':2, 'LdapInjection':3,\n",
    "        'XPathInjection':4, 'PathTransversal':5, 'OsCommanding':6, 'SSI':7}\n",
    "max_length=0\n",
    "for node in xroot: \n",
    "    sample_id = node.attrib.get(\"id\")\n",
    "\n",
    "    request = node.find('{http://www.example.org/ECMLPKDD}request')\n",
    "    clazz = node.find('{http://www.example.org/ECMLPKDD}class')\n",
    "    type_ = clazz.find('{http://www.example.org/ECMLPKDD}type')\n",
    "    method = request.find('{http://www.example.org/ECMLPKDD}method')\n",
    "    protocol = request.find('{http://www.example.org/ECMLPKDD}protocol')\n",
    "    uri = request.find('{http://www.example.org/ECMLPKDD}uri')\n",
    "    query = request.find('{http://www.example.org/ECMLPKDD}query')\n",
    "    headers = request.find('{http://www.example.org/ECMLPKDD}headers')\n",
    "    \n",
    "    if query is not None: \n",
    "        query_text = \"?\"+query.text\n",
    "    else:\n",
    "        query_text = \"\"\n",
    "    headers = request.find('{http://www.example.org/ECMLPKDD}headers')\n",
    "    body = request.find('{http://www.example.org/ECMLPKDD}body')\n",
    "    if body is not None:\n",
    "        body_text= body.text\n",
    "    else:\n",
    "        body_text = \"\"\n",
    "    \n",
    "    \n",
    "    request_text = method.text+\" \"+uri.text+query_text+\" \"+protocol.text+\"\\n\"+headers.text+\"\\n\"\n",
    "    if len(body_text)>1:\n",
    "        request_text = request_text+ \"\\n\"+body_text+\"\\n\"\n",
    "     \n",
    "    label = labels[type_.text]\n",
    "    docs.append( (request_text,str(label)) )\n",
    "    \n",
    "    if len(request_text)>max_length:\n",
    "            max_length=len(request_text)\n",
    "\n",
    "df  = pd.DataFrame.from_records(docs,columns=['request','label'])\n",
    "df['label'].apply(str)\n",
    "\n",
    "train, validate, test = np.split(df.sample(frac=1), [int(.6*len(df)), int(.8*len(df))])\n",
    "\n",
    "\n",
    "\n",
    "#print(len(df.loc[df['label'] != '0']))\n",
    "\n",
    "print(\"Training data length: \"+str(len(train['request'])))\n",
    "print(\"Validate data length: \"+str(len(validate['request'])))\n",
    "print(\"Test data length: \"+str(len(test['request'])))\n",
    "\n",
    "train.to_csv('../_train.csv',header=False,index=False,quoting=csv.QUOTE_ALL,columns=['label','request'])\n",
    "validate.to_csv('../_validate.csv',header=False,index=False,quoting=csv.QUOTE_ALL,columns=['label','request'])\n",
    "test.to_csv('../_test.csv',header=False,index=False,quoting=csv.QUOTE_ALL,columns=['label','request'])\n",
    "print(\"MAX input length: \"+str(max_length))\n",
    "    \n",
    "#print number of samples per class  in training data\n",
    "train['label'].value_counts()  \n"
   ]
  }
 ],
 "metadata": {
  "kernelspec": {
   "display_name": "Python 3",
   "language": "python",
   "name": "python3"
  },
  "language_info": {
   "codemirror_mode": {
    "name": "ipython",
    "version": 3
   },
   "file_extension": ".py",
   "mimetype": "text/x-python",
   "name": "python",
   "nbconvert_exporter": "python",
   "pygments_lexer": "ipython3",
   "version": "3.6.0"
  }
 },
 "nbformat": 4,
 "nbformat_minor": 2
}
